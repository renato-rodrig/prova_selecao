{
  "nbformat": 4,
  "nbformat_minor": 0,
  "metadata": {
    "colab": {
      "provenance": []
    },
    "kernelspec": {
      "name": "python3",
      "display_name": "Python 3"
    },
    "language_info": {
      "name": "python"
    }
  },
  "cells": [
    {
      "cell_type": "code",
      "execution_count": null,
      "metadata": {
        "id": "bM8PV-VPJ1zG"
      },
      "outputs": [],
      "source": [
        "# Fazendo Updates\n",
        "!apt-get update\n",
        "!apt-get upgrade"
      ]
    },
    {
      "cell_type": "code",
      "source": [
        "#instalando dependencias\n",
        "\n",
        "!apt-get install build-essential\n",
        "!apt-get install cmake git libgtk2.0-dev pkg-config libavcodec-dev libavformat-dev libswscale-dev"
      ],
      "metadata": {
        "id": "8dqN4TWmJ5s6"
      },
      "execution_count": null,
      "outputs": []
    },
    {
      "cell_type": "code",
      "source": [
        "# Instalando dependencias\n",
        "!apt-get install libavcodec-dev libavformat-dev libswscale-dev"
      ],
      "metadata": {
        "id": "MSciCA8OJ8tH"
      },
      "execution_count": null,
      "outputs": []
    },
    {
      "cell_type": "code",
      "source": [
        "!apt-get -y install cmake\n",
        "!which cmake\n",
        "\n",
        "!cmake --version"
      ],
      "metadata": {
        "id": "vOq4SV2ZJ9H_"
      },
      "execution_count": null,
      "outputs": []
    },
    {
      "cell_type": "code",
      "source": [
        "# Instalando Opencv\n",
        "!apt-get install libopencv-dev"
      ],
      "metadata": {
        "id": "zLCxPTo3J9Sl"
      },
      "execution_count": null,
      "outputs": []
    },
    {
      "cell_type": "code",
      "source": [
        "# Clonando repositorio do Alexey\n",
        "!git clone https://github.com/AlexeyAB/darknet/"
      ],
      "metadata": {
        "id": "wvCXagNjJ9a_"
      },
      "execution_count": null,
      "outputs": []
    },
    {
      "cell_type": "code",
      "source": [
        "# Instalando dependencias\n",
        "!apt-get install vim"
      ],
      "metadata": {
        "id": "NJqFvUH-J9il"
      },
      "execution_count": null,
      "outputs": []
    },
    {
      "cell_type": "code",
      "source": [
        "# Caso queira ver o arquivo Makefile (lembre-se de parar a celula manualmente)\n",
        "\n",
        "%cd darknet\n",
        "#!vim Makefile\n"
      ],
      "metadata": {
        "id": "8NCKtMJoJ9ph"
      },
      "execution_count": null,
      "outputs": []
    },
    {
      "cell_type": "code",
      "source": [
        "# Baixando pesos do wget yolov3-tiny\n",
        "!ls\n",
        "!wget https://pjreddie.com/media/files/yolov3-tiny.weights"
      ],
      "metadata": {
        "id": "5O_rX-MeJ9vi"
      },
      "execution_count": null,
      "outputs": []
    },
    {
      "cell_type": "code",
      "source": [
        "# Algumas modificações no arquivo makefile para conseguirmos usar a GPU e build darknet\n",
        "!ls\n",
        "\n",
        "!sed -i 's/OPENCV=0/OPENCV=1/g' Makefile\n",
        "!sed -i 's/GPU=0/GPU=1/g' Makefile\n",
        "!sed -i 's/CUDNN_HALF=0/CUDNN_HALF=1/g' Makefile\n",
        "!sed -i 's/CUDNN=0/CUDNN=1/g' Makefile"
      ],
      "metadata": {
        "id": "3XAylAjXKMz6"
      },
      "execution_count": null,
      "outputs": []
    },
    {
      "cell_type": "code",
      "source": [
        "# Abra o arquivo MakeFile e modifique a linha 20 para\n",
        "'''\n",
        "ARCH= -gencode arch=compute_50,code=[sm_50,compute_50] \\\n",
        "      -gencode arch=compute_52,code=[sm_52,compute_52] \\\n",
        "\t    -gencode arch=compute_61,code=[sm_61,compute_61]\n",
        "'''"
      ],
      "metadata": {
        "id": "9Z0dsis-KM9D"
      },
      "execution_count": null,
      "outputs": []
    },
    {
      "cell_type": "code",
      "source": [
        "#Going to the parent directory\n",
        "!ls\n",
        "%cd ../\n",
        "!ls"
      ],
      "metadata": {
        "id": "4o3By8MdKNES"
      },
      "execution_count": null,
      "outputs": []
    },
    {
      "cell_type": "code",
      "source": [
        "!apt install g++-10\n",
        "!apt install gcc-10\n",
        "\n",
        "!update-alternatives --install /usr/bin/gcc gcc /usr/bin/gcc-10 10\n",
        "!update-alternatives --install /usr/bin/gcc gcc /usr/bin/gcc-10 20\n",
        "!update-alternatives --install /usr/bin/g++ g++ /usr/bin/g++-10 10\n",
        "!update-alternatives --install /usr/bin/g++ g++ /usr/bin/g++-10 20\n",
        "!update-alternatives --install /usr/bin/cc cc /usr/bin/gcc 30\n",
        "!update-alternatives --set cc /usr/bin/gcc\n",
        "!update-alternatives --install /usr/bin/c++ c++ /usr/bin/g++ 30\n",
        "!update-alternatives --set c++ /usr/bin/g++"
      ],
      "metadata": {
        "id": "Ku4APKDeKNMG"
      },
      "execution_count": null,
      "outputs": []
    },
    {
      "cell_type": "code",
      "source": [
        "#Configurações da GPU\n",
        "\n",
        "!apt update -qq;\n",
        "!wget https://developer.nvidia.com/compute/cuda/8.0/Prod2/local_installers/cuda-repo-ubuntu1604-8-0-local-ga2_8.0.61-1_amd64-deb\n",
        "!dpkg -i cuda-repo-ubuntu1604-8-0-local-ga2_8.0.61-1_amd64-deb\n",
        "!apt-get update -qq\n",
        "\n",
        "\n",
        "!apt-get install cuda -y -qq #gcc-5 g++-5 \n",
        "#!ln -s /usr/bin/gcc-5 /usr/local/cuda/bin/gcc\n",
        "#!ln -s /usr/bin/g++-5 /usr/local/cuda/bin/g++\n",
        "!apt update\n",
        "!apt upgrade\n",
        "!apt install cuda-8.0 -y"
      ],
      "metadata": {
        "id": "wSdPeEqqKNTk"
      },
      "execution_count": null,
      "outputs": []
    },
    {
      "cell_type": "code",
      "source": [
        "# Checando qual gpu esta instalada\n",
        "import tensorflow as tf\n",
        "device_name = tf.test.gpu_device_name()\n",
        "print(device_name)\n",
        "\n",
        "print(\"'sup!'\")\n",
        "\n",
        "!/usr/local/cuda/bin/nvcc --version"
      ],
      "metadata": {
        "id": "nGEDEt3VKNa7"
      },
      "execution_count": null,
      "outputs": []
    },
    {
      "cell_type": "code",
      "source": [
        "# Compilando\n",
        "%cd darknet\n",
        "!make"
      ],
      "metadata": {
        "id": "AIbbEmD_KNid"
      },
      "execution_count": null,
      "outputs": []
    },
    {
      "cell_type": "code",
      "source": [
        "import cv2\n",
        "import numpy as np\n",
        "import matplotlib.pyplot as plt\n",
        "from google.colab.patches import cv2_imshow\n",
        "import shutil"
      ],
      "metadata": {
        "id": "kUF-1RgfKNpa"
      },
      "execution_count": null,
      "outputs": []
    },
    {
      "cell_type": "code",
      "source": [
        "def show_image(image, title='Image', cmap_type='gray'):\n",
        "    plt.imshow(image, cmap=cmap_type)\n",
        "    plt.title(title)\n",
        "    plt.axis('off')\n",
        "    plt.show()"
      ],
      "metadata": {
        "id": "XoHc7DveKNw0"
      },
      "execution_count": null,
      "outputs": []
    },
    {
      "cell_type": "code",
      "source": [
        "shutil.copy2('/content/image/questao2_provaMobit.png', '/content/darknet/data/')\n",
        "image = plt.imread(\"/content/darknet/data/questao2_provaMobit.png\")\n",
        "\n",
        "show_image(image, title='Image', cmap_type='gray')"
      ],
      "metadata": {
        "id": "HhMKfVj-J905"
      },
      "execution_count": null,
      "outputs": []
    },
    {
      "cell_type": "code",
      "source": [],
      "metadata": {
        "id": "RlBlWEVEKjOI"
      },
      "execution_count": null,
      "outputs": []
    },
    {
      "cell_type": "code",
      "source": [],
      "metadata": {
        "id": "OYVDJFr1KjVY"
      },
      "execution_count": null,
      "outputs": []
    },
    {
      "cell_type": "code",
      "source": [],
      "metadata": {
        "id": "g_AivV2EKjcp"
      },
      "execution_count": null,
      "outputs": []
    },
    {
      "cell_type": "code",
      "source": [],
      "metadata": {
        "id": "NPRVJDCuKjji"
      },
      "execution_count": null,
      "outputs": []
    },
    {
      "cell_type": "code",
      "source": [],
      "metadata": {
        "id": "5trZa3T9Kjq7"
      },
      "execution_count": null,
      "outputs": []
    },
    {
      "cell_type": "code",
      "source": [],
      "metadata": {
        "id": "o21iJcmiKjx4"
      },
      "execution_count": null,
      "outputs": []
    },
    {
      "cell_type": "code",
      "source": [],
      "metadata": {
        "id": "dmjJeFNjKj5C"
      },
      "execution_count": null,
      "outputs": []
    },
    {
      "cell_type": "code",
      "source": [],
      "metadata": {
        "id": "8wdUw2pZKkAT"
      },
      "execution_count": null,
      "outputs": []
    },
    {
      "cell_type": "code",
      "source": [],
      "metadata": {
        "id": "6rER1nEUKkMG"
      },
      "execution_count": null,
      "outputs": []
    },
    {
      "cell_type": "markdown",
      "source": [],
      "metadata": {
        "id": "Sp_j6bX_J950"
      }
    }
  ]
}